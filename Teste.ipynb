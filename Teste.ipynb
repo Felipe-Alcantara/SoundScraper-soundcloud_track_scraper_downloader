{
 "cells": [
  {
   "cell_type": "code",
   "execution_count": 1,
   "metadata": {},
   "outputs": [
    {
     "data": {
      "text/plain": [
       "'soundcloud.com/pzzs'"
      ]
     },
     "execution_count": 1,
     "metadata": {},
     "output_type": "execute_result"
    }
   ],
   "source": [
    "def get_soundcloud_link():\n",
    "    while True:\n",
    "        try: # Loop até o input ser válido\n",
    "            usuario_link = input(\"Insira o link do perfil do SoundCloud: \").strip()\n",
    "            \n",
    "            # Remove \"http://\" ou \"https://\" do início, se existir\n",
    "            if usuario_link.startswith(\"https://\"):\n",
    "                usuario_link = usuario_link[len(\"https://\"):]\n",
    "            elif usuario_link.startswith(\"http://\"):\n",
    "                usuario_link = usuario_link[len(\"http://\"):]\n",
    "\n",
    "            # Verifica se o link é do SoundCloud\n",
    "            if not usuario_link.startswith(\"soundcloud.com\"):\n",
    "                raise ValueError(\"O link inserido não parece ser do SoundCloud.\")\n",
    "            \n",
    "            # Remove parâmetros de URL, se existirem\n",
    "            base_url = usuario_link.split(\"?\")[0]\n",
    "            path_parts = base_url.split(\"/\")  # Divide o link por \"/\"\n",
    "\n",
    "            # Mantém apenas a parte até o nome do artista (segunda posição)\n",
    "            if len(path_parts) < 2 or not path_parts[1]:  # Verifica se o formato é correto\n",
    "                raise ValueError(\"O link deve conter o nome do artista.\")\n",
    "            \n",
    "            # Retorna o link formatado no estilo https://soundcloud.com/artista\n",
    "            return f\"{path_parts[0]}/{path_parts[1]}\"\n",
    "    \n",
    "        except ValueError as ve:  # Captura a exceção e imprime a mensagem correta\n",
    "            print(f\"Erro: {ve}. Por favor, insira um link válido.\")\n",
    "\n",
    "get_soundcloud_link()"
   ]
  }
 ],
 "metadata": {
  "kernelspec": {
   "display_name": "base",
   "language": "python",
   "name": "python3"
  },
  "language_info": {
   "codemirror_mode": {
    "name": "ipython",
    "version": 3
   },
   "file_extension": ".py",
   "mimetype": "text/x-python",
   "name": "python",
   "nbconvert_exporter": "python",
   "pygments_lexer": "ipython3",
   "version": "3.12.4"
  }
 },
 "nbformat": 4,
 "nbformat_minor": 2
}
